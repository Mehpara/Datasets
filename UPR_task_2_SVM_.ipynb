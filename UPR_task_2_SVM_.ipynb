{
  "nbformat": 4,
  "nbformat_minor": 0,
  "metadata": {
    "colab": {
      "name": "UPR task 2 SVM .ipynb",
      "provenance": [],
      "collapsed_sections": [],
      "authorship_tag": "ABX9TyP5xG4feCtmHQvPqhpR5AJf",
      "include_colab_link": true
    },
    "kernelspec": {
      "name": "python3",
      "display_name": "Python 3"
    },
    "language_info": {
      "name": "python"
    }
  },
  "cells": [
    {
      "cell_type": "markdown",
      "metadata": {
        "id": "view-in-github",
        "colab_type": "text"
      },
      "source": [
        "<a href=\"https://colab.research.google.com/github/Mehpara/Datasets/blob/main/UPR_task_2_SVM_.ipynb\" target=\"_parent\"><img src=\"https://colab.research.google.com/assets/colab-badge.svg\" alt=\"Open In Colab\"/></a>"
      ]
    },
    {
      "cell_type": "code",
      "execution_count": 1,
      "metadata": {
        "id": "KMRJ-A0TGKzA"
      },
      "outputs": [],
      "source": [
        "import numpy as np\n",
        "import pandas as pd\n",
        "import matplotlib.pyplot as plt\n",
        "from sklearn import linear_model\n",
        "from sklearn.feature_extraction.text import TfidfVectorizer\n",
        "from sklearn.linear_model import LinearRegression\n",
        "from sklearn.metrics import precision_score, f1_score, recall_score, accuracy_score, hamming_loss\n",
        "from sklearn.model_selection import train_test_split\n",
        "\n",
        "from sklearn.preprocessing import StandardScaler\n",
        "\n",
        "\n",
        "#to create plots we use this library We used seaborn to visualise the distribution of the data: sns.pairplot(Data, diag_kind= “kde”, hue= “Outcome”)\n",
        "import seaborn as sns \n",
        "#Apply SVM Now\n",
        "from sklearn.svm import SVC \n",
        "from sklearn import metrics\n"
      ]
    },
    {
      "cell_type": "code",
      "source": [
        "df = pd.read_csv('https://raw.githubusercontent.com/Mehpara/Datasets/main/diabetes2.csv')\n"
      ],
      "metadata": {
        "id": "9rtuqSx6GReh"
      },
      "execution_count": 2,
      "outputs": []
    },
    {
      "cell_type": "code",
      "source": [
        "df"
      ],
      "metadata": {
        "colab": {
          "base_uri": "https://localhost:8080/",
          "height": 424
        },
        "id": "DYb1bQKxuMln",
        "outputId": "761eb2ac-c4a6-42e0-f649-6fd78b9753fe"
      },
      "execution_count": 22,
      "outputs": [
        {
          "output_type": "execute_result",
          "data": {
            "text/plain": [
              "     Pregnancies  Glucose  BloodPressure  SkinThickness  Insulin   BMI  \\\n",
              "0              6      148             72             35        0  33.6   \n",
              "1              1       85             66             29        0  26.6   \n",
              "2              8      183             64              0        0  23.3   \n",
              "3              1       89             66             23       94  28.1   \n",
              "4              0      137             40             35      168  43.1   \n",
              "..           ...      ...            ...            ...      ...   ...   \n",
              "763           10      101             76             48      180  32.9   \n",
              "764            2      122             70             27        0  36.8   \n",
              "765            5      121             72             23      112  26.2   \n",
              "766            1      126             60              0        0  30.1   \n",
              "767            1       93             70             31        0  30.4   \n",
              "\n",
              "     DiabetesPedigreeFunction  Age  Outcome  \n",
              "0                       0.627   50        1  \n",
              "1                       0.351   31        0  \n",
              "2                       0.672   32        1  \n",
              "3                       0.167   21        0  \n",
              "4                       2.288   33        1  \n",
              "..                        ...  ...      ...  \n",
              "763                     0.171   63        0  \n",
              "764                     0.340   27        0  \n",
              "765                     0.245   30        0  \n",
              "766                     0.349   47        1  \n",
              "767                     0.315   23        0  \n",
              "\n",
              "[768 rows x 9 columns]"
            ],
            "text/html": [
              "\n",
              "  <div id=\"df-3b759383-5c36-491e-bad6-9b04bf1ae105\">\n",
              "    <div class=\"colab-df-container\">\n",
              "      <div>\n",
              "<style scoped>\n",
              "    .dataframe tbody tr th:only-of-type {\n",
              "        vertical-align: middle;\n",
              "    }\n",
              "\n",
              "    .dataframe tbody tr th {\n",
              "        vertical-align: top;\n",
              "    }\n",
              "\n",
              "    .dataframe thead th {\n",
              "        text-align: right;\n",
              "    }\n",
              "</style>\n",
              "<table border=\"1\" class=\"dataframe\">\n",
              "  <thead>\n",
              "    <tr style=\"text-align: right;\">\n",
              "      <th></th>\n",
              "      <th>Pregnancies</th>\n",
              "      <th>Glucose</th>\n",
              "      <th>BloodPressure</th>\n",
              "      <th>SkinThickness</th>\n",
              "      <th>Insulin</th>\n",
              "      <th>BMI</th>\n",
              "      <th>DiabetesPedigreeFunction</th>\n",
              "      <th>Age</th>\n",
              "      <th>Outcome</th>\n",
              "    </tr>\n",
              "  </thead>\n",
              "  <tbody>\n",
              "    <tr>\n",
              "      <th>0</th>\n",
              "      <td>6</td>\n",
              "      <td>148</td>\n",
              "      <td>72</td>\n",
              "      <td>35</td>\n",
              "      <td>0</td>\n",
              "      <td>33.6</td>\n",
              "      <td>0.627</td>\n",
              "      <td>50</td>\n",
              "      <td>1</td>\n",
              "    </tr>\n",
              "    <tr>\n",
              "      <th>1</th>\n",
              "      <td>1</td>\n",
              "      <td>85</td>\n",
              "      <td>66</td>\n",
              "      <td>29</td>\n",
              "      <td>0</td>\n",
              "      <td>26.6</td>\n",
              "      <td>0.351</td>\n",
              "      <td>31</td>\n",
              "      <td>0</td>\n",
              "    </tr>\n",
              "    <tr>\n",
              "      <th>2</th>\n",
              "      <td>8</td>\n",
              "      <td>183</td>\n",
              "      <td>64</td>\n",
              "      <td>0</td>\n",
              "      <td>0</td>\n",
              "      <td>23.3</td>\n",
              "      <td>0.672</td>\n",
              "      <td>32</td>\n",
              "      <td>1</td>\n",
              "    </tr>\n",
              "    <tr>\n",
              "      <th>3</th>\n",
              "      <td>1</td>\n",
              "      <td>89</td>\n",
              "      <td>66</td>\n",
              "      <td>23</td>\n",
              "      <td>94</td>\n",
              "      <td>28.1</td>\n",
              "      <td>0.167</td>\n",
              "      <td>21</td>\n",
              "      <td>0</td>\n",
              "    </tr>\n",
              "    <tr>\n",
              "      <th>4</th>\n",
              "      <td>0</td>\n",
              "      <td>137</td>\n",
              "      <td>40</td>\n",
              "      <td>35</td>\n",
              "      <td>168</td>\n",
              "      <td>43.1</td>\n",
              "      <td>2.288</td>\n",
              "      <td>33</td>\n",
              "      <td>1</td>\n",
              "    </tr>\n",
              "    <tr>\n",
              "      <th>...</th>\n",
              "      <td>...</td>\n",
              "      <td>...</td>\n",
              "      <td>...</td>\n",
              "      <td>...</td>\n",
              "      <td>...</td>\n",
              "      <td>...</td>\n",
              "      <td>...</td>\n",
              "      <td>...</td>\n",
              "      <td>...</td>\n",
              "    </tr>\n",
              "    <tr>\n",
              "      <th>763</th>\n",
              "      <td>10</td>\n",
              "      <td>101</td>\n",
              "      <td>76</td>\n",
              "      <td>48</td>\n",
              "      <td>180</td>\n",
              "      <td>32.9</td>\n",
              "      <td>0.171</td>\n",
              "      <td>63</td>\n",
              "      <td>0</td>\n",
              "    </tr>\n",
              "    <tr>\n",
              "      <th>764</th>\n",
              "      <td>2</td>\n",
              "      <td>122</td>\n",
              "      <td>70</td>\n",
              "      <td>27</td>\n",
              "      <td>0</td>\n",
              "      <td>36.8</td>\n",
              "      <td>0.340</td>\n",
              "      <td>27</td>\n",
              "      <td>0</td>\n",
              "    </tr>\n",
              "    <tr>\n",
              "      <th>765</th>\n",
              "      <td>5</td>\n",
              "      <td>121</td>\n",
              "      <td>72</td>\n",
              "      <td>23</td>\n",
              "      <td>112</td>\n",
              "      <td>26.2</td>\n",
              "      <td>0.245</td>\n",
              "      <td>30</td>\n",
              "      <td>0</td>\n",
              "    </tr>\n",
              "    <tr>\n",
              "      <th>766</th>\n",
              "      <td>1</td>\n",
              "      <td>126</td>\n",
              "      <td>60</td>\n",
              "      <td>0</td>\n",
              "      <td>0</td>\n",
              "      <td>30.1</td>\n",
              "      <td>0.349</td>\n",
              "      <td>47</td>\n",
              "      <td>1</td>\n",
              "    </tr>\n",
              "    <tr>\n",
              "      <th>767</th>\n",
              "      <td>1</td>\n",
              "      <td>93</td>\n",
              "      <td>70</td>\n",
              "      <td>31</td>\n",
              "      <td>0</td>\n",
              "      <td>30.4</td>\n",
              "      <td>0.315</td>\n",
              "      <td>23</td>\n",
              "      <td>0</td>\n",
              "    </tr>\n",
              "  </tbody>\n",
              "</table>\n",
              "<p>768 rows × 9 columns</p>\n",
              "</div>\n",
              "      <button class=\"colab-df-convert\" onclick=\"convertToInteractive('df-3b759383-5c36-491e-bad6-9b04bf1ae105')\"\n",
              "              title=\"Convert this dataframe to an interactive table.\"\n",
              "              style=\"display:none;\">\n",
              "        \n",
              "  <svg xmlns=\"http://www.w3.org/2000/svg\" height=\"24px\"viewBox=\"0 0 24 24\"\n",
              "       width=\"24px\">\n",
              "    <path d=\"M0 0h24v24H0V0z\" fill=\"none\"/>\n",
              "    <path d=\"M18.56 5.44l.94 2.06.94-2.06 2.06-.94-2.06-.94-.94-2.06-.94 2.06-2.06.94zm-11 1L8.5 8.5l.94-2.06 2.06-.94-2.06-.94L8.5 2.5l-.94 2.06-2.06.94zm10 10l.94 2.06.94-2.06 2.06-.94-2.06-.94-.94-2.06-.94 2.06-2.06.94z\"/><path d=\"M17.41 7.96l-1.37-1.37c-.4-.4-.92-.59-1.43-.59-.52 0-1.04.2-1.43.59L10.3 9.45l-7.72 7.72c-.78.78-.78 2.05 0 2.83L4 21.41c.39.39.9.59 1.41.59.51 0 1.02-.2 1.41-.59l7.78-7.78 2.81-2.81c.8-.78.8-2.07 0-2.86zM5.41 20L4 18.59l7.72-7.72 1.47 1.35L5.41 20z\"/>\n",
              "  </svg>\n",
              "      </button>\n",
              "      \n",
              "  <style>\n",
              "    .colab-df-container {\n",
              "      display:flex;\n",
              "      flex-wrap:wrap;\n",
              "      gap: 12px;\n",
              "    }\n",
              "\n",
              "    .colab-df-convert {\n",
              "      background-color: #E8F0FE;\n",
              "      border: none;\n",
              "      border-radius: 50%;\n",
              "      cursor: pointer;\n",
              "      display: none;\n",
              "      fill: #1967D2;\n",
              "      height: 32px;\n",
              "      padding: 0 0 0 0;\n",
              "      width: 32px;\n",
              "    }\n",
              "\n",
              "    .colab-df-convert:hover {\n",
              "      background-color: #E2EBFA;\n",
              "      box-shadow: 0px 1px 2px rgba(60, 64, 67, 0.3), 0px 1px 3px 1px rgba(60, 64, 67, 0.15);\n",
              "      fill: #174EA6;\n",
              "    }\n",
              "\n",
              "    [theme=dark] .colab-df-convert {\n",
              "      background-color: #3B4455;\n",
              "      fill: #D2E3FC;\n",
              "    }\n",
              "\n",
              "    [theme=dark] .colab-df-convert:hover {\n",
              "      background-color: #434B5C;\n",
              "      box-shadow: 0px 1px 3px 1px rgba(0, 0, 0, 0.15);\n",
              "      filter: drop-shadow(0px 1px 2px rgba(0, 0, 0, 0.3));\n",
              "      fill: #FFFFFF;\n",
              "    }\n",
              "  </style>\n",
              "\n",
              "      <script>\n",
              "        const buttonEl =\n",
              "          document.querySelector('#df-3b759383-5c36-491e-bad6-9b04bf1ae105 button.colab-df-convert');\n",
              "        buttonEl.style.display =\n",
              "          google.colab.kernel.accessAllowed ? 'block' : 'none';\n",
              "\n",
              "        async function convertToInteractive(key) {\n",
              "          const element = document.querySelector('#df-3b759383-5c36-491e-bad6-9b04bf1ae105');\n",
              "          const dataTable =\n",
              "            await google.colab.kernel.invokeFunction('convertToInteractive',\n",
              "                                                     [key], {});\n",
              "          if (!dataTable) return;\n",
              "\n",
              "          const docLinkHtml = 'Like what you see? Visit the ' +\n",
              "            '<a target=\"_blank\" href=https://colab.research.google.com/notebooks/data_table.ipynb>data table notebook</a>'\n",
              "            + ' to learn more about interactive tables.';\n",
              "          element.innerHTML = '';\n",
              "          dataTable['output_type'] = 'display_data';\n",
              "          await google.colab.output.renderOutput(dataTable, element);\n",
              "          const docLink = document.createElement('div');\n",
              "          docLink.innerHTML = docLinkHtml;\n",
              "          element.appendChild(docLink);\n",
              "        }\n",
              "      </script>\n",
              "    </div>\n",
              "  </div>\n",
              "  "
            ]
          },
          "metadata": {},
          "execution_count": 22
        }
      ]
    },
    {
      "cell_type": "code",
      "source": [
        ""
      ],
      "metadata": {
        "id": "bKNBi5lqx9Zg"
      },
      "execution_count": null,
      "outputs": []
    },
    {
      "cell_type": "code",
      "source": [
        "\n",
        "df2=df[['Age',\"SkinThickness\",\"Glucose\",\"BloodPressure\",\"BMI\"\t]]"
      ],
      "metadata": {
        "id": "haKrFb1aNFey"
      },
      "execution_count": 13,
      "outputs": []
    },
    {
      "cell_type": "code",
      "source": [
        "\n",
        "\n",
        "x_train,x_test,y_train,y_test=train_test_split(df[[\"SkinThickness\",\"DiabetesPedigreeFunction\",'Glucose',\"BMI\"]],df[\"BloodPressure\"],test_size=0.3,random_state=0)\n",
        "#Standered scALER\n",
        "\n",
        "sc_x=StandardScaler()\n",
        "x_train=sc_x.fit_transform(x_train)\n",
        "x_test=sc_x.fit_transform(x_test)\n",
        "\n"
      ],
      "metadata": {
        "id": "cP_1yjNvMdjS"
      },
      "execution_count": 36,
      "outputs": []
    },
    {
      "cell_type": "code",
      "source": [
        "sv=SVC(kernel='linear',random_state=0)\n",
        "sv.fit(x_train,y_train)\n",
        "y_pred=sv.predict(x_test)\n",
        "y_pred\n",
        "\n",
        "\n"
      ],
      "metadata": {
        "id": "6SkK_OAaMdZB",
        "colab": {
          "base_uri": "https://localhost:8080/"
        },
        "outputId": "abb27187-7902-4468-ee45-0f3f9e92748b"
      },
      "execution_count": 37,
      "outputs": [
        {
          "output_type": "execute_result",
          "data": {
            "text/plain": [
              "array([78, 70,  0, 70,  0, 70, 70, 70, 82, 70, 70, 78,  0, 68, 68, 68, 70,\n",
              "       62, 70, 70, 78,  0, 68, 70, 62, 70,  0, 78, 70,  0, 70, 78, 68, 68,\n",
              "       70,  0, 70, 70, 70, 70, 70,  0, 70, 70, 70, 62, 70, 70, 68,  0,  0,\n",
              "       70, 78, 70, 78, 68, 70, 76,  0,  0, 70, 70,  0,  0,  0, 82,  0,  0,\n",
              "        0, 70,  0,  0, 70,  0,  0,  0, 70, 70, 70, 68,  0, 70, 70, 62, 70,\n",
              "        0,  0, 78, 70, 78, 70,  0, 70, 62, 70, 70, 78, 78, 70,  0, 78, 68,\n",
              "        0, 62, 78,  0, 70, 70, 62,  0, 68, 70,  0, 68, 70,  0, 68, 70, 70,\n",
              "       78, 78, 78, 70, 70, 70,  0, 70, 70,  0,  0, 70,  0, 70, 78, 68, 70,\n",
              "       70, 78,  0,  0, 70, 70,  0,  0,  0, 62, 68, 70, 68, 68, 70,  0, 70,\n",
              "       68, 70, 70, 78, 68,  0, 76, 70,  0, 62, 70,  0,  0,  0,  0,  0,  0,\n",
              "       70, 68,  0,  0, 70, 70,  0, 70, 70, 70,  0,  0, 68, 78,  0,  0,  0,\n",
              "        0, 70, 68,  0, 70,  0, 70,  0, 78, 78, 70,  0,  0, 70, 70, 68,  0,\n",
              "       70, 68, 70, 78, 70, 62, 70, 70,  0,  0, 70, 78, 68, 70,  0, 70,  0,\n",
              "       62, 70, 78, 78, 70, 68, 70, 62,  0, 70])"
            ]
          },
          "metadata": {},
          "execution_count": 37
        }
      ]
    },
    {
      "cell_type": "code",
      "source": [
        "\n",
        "print(\"the accuracy for linear kernal is :\")\n",
        "print(metrics.accuracy_score(y_test,y_pred))\n"
      ],
      "metadata": {
        "colab": {
          "base_uri": "https://localhost:8080/"
        },
        "id": "fF9R6s3LN9lb",
        "outputId": "32db328e-4acc-4a2c-d117-a9777ccc3165"
      },
      "execution_count": 38,
      "outputs": [
        {
          "output_type": "stream",
          "name": "stdout",
          "text": [
            "the accuracy for linear kernal is :\n",
            "0.06926406926406926\n"
          ]
        }
      ]
    },
    {
      "cell_type": "code",
      "source": [
        "sv=SVC(kernel='rbf',gamma=15,C=7,random_state=0)\n",
        "sv.fit(x_train,y_train)\n",
        "y_pred=sv.predict(x_test)\n",
        "y_pred"
      ],
      "metadata": {
        "colab": {
          "base_uri": "https://localhost:8080/"
        },
        "id": "P9vkWF6POW-L",
        "outputId": "60dd2e74-d37b-4fbb-e582-0337e08692b1"
      },
      "execution_count": 40,
      "outputs": [
        {
          "output_type": "execute_result",
          "data": {
            "text/plain": [
              "array([70, 70, 70, 70, 70, 86, 70, 70, 70, 82, 70, 70, 64, 70, 70, 70, 70,\n",
              "       70, 74, 72, 70, 70, 78, 70, 50, 70, 70, 70, 60, 80, 70, 70, 70, 70,\n",
              "       70, 78, 70, 72, 70, 90, 70, 70, 64, 70, 70, 70, 70, 70, 70, 70, 74,\n",
              "       64, 70, 70, 70, 70, 70, 70, 70,  0, 70, 70, 80, 70, 70, 70, 70, 96,\n",
              "       66, 68, 70, 74, 72, 70, 70, 72, 70, 70, 74, 74, 70, 68, 70, 70, 70,\n",
              "       70, 70, 68, 70, 70, 70, 74, 70, 70, 70, 66, 70, 70, 70, 76, 70, 58,\n",
              "       70, 56, 70, 70, 78, 70, 70, 70, 78, 70, 70, 70, 78, 78, 70, 70, 68,\n",
              "       86, 70, 70, 70, 70, 70, 68, 70, 64, 70, 70, 70, 70, 68, 70, 70, 90,\n",
              "       68, 70, 70, 78, 70, 70, 72, 70, 76, 72, 70, 70, 70, 70, 74,  0, 68,\n",
              "       88, 62, 64, 70, 70, 62, 70, 70, 70, 70, 70, 70, 76, 82, 80, 76, 74,\n",
              "       60, 70, 66, 70, 82, 58, 70, 70, 68, 74, 74, 70, 70, 70, 70, 70, 70,\n",
              "       60, 78, 70, 96, 72, 80, 74, 82, 62, 70, 70, 70, 70, 70, 82, 70, 80,\n",
              "       70, 82, 68, 70, 70, 64, 68, 68, 80, 70, 70, 70, 70, 70, 70, 74, 70,\n",
              "       62, 70, 70, 70, 76, 70, 70, 72, 70, 78])"
            ]
          },
          "metadata": {},
          "execution_count": 40
        }
      ]
    },
    {
      "cell_type": "code",
      "source": [
        "print(\"the accuracy for rbf kernal is :\")\n",
        "print(metrics.accuracy_score(y_test,y_pred))"
      ],
      "metadata": {
        "colab": {
          "base_uri": "https://localhost:8080/"
        },
        "id": "TC_SGpTZOgCD",
        "outputId": "4bb4fcb8-abc5-4f5f-8a82-9ba0f9bb176c"
      },
      "execution_count": 41,
      "outputs": [
        {
          "output_type": "stream",
          "name": "stdout",
          "text": [
            "the accuracy for rbf kernal is :\n",
            "0.05194805194805195\n"
          ]
        }
      ]
    },
    {
      "cell_type": "code",
      "source": [
        "sv=SVC(kernel='poly',degree=8)\n",
        "sv.fit(x_train,y_train)\n",
        "y_pred=sv.predict(x_test)\n",
        "print(y_pred)\n",
        "\n",
        "print(\"the accuracy for poly kernal is :\")\n",
        "print(metrics.accuracy_score(y_test,y_pred)) \n",
        "\n"
      ],
      "metadata": {
        "colab": {
          "base_uri": "https://localhost:8080/"
        },
        "id": "eM-X2qhMOqXP",
        "outputId": "2ba9f2f2-984d-47ea-c24a-beb34504a0fa"
      },
      "execution_count": 42,
      "outputs": [
        {
          "output_type": "stream",
          "name": "stdout",
          "text": [
            "[ 55  70  70  70  70  70  70  60  82  70  70 110  70  50  70  70  50  70\n",
            "  70  70  70  70  70  70  70  70  68  80  70  70  70  64  70  70  70  74\n",
            "  70  70  70  70  70  76  70  95  95 108  70  70  80  70  70  70   0  70\n",
            "  70 110  70 108  70  30  68  70  70  70  70  85  70  70  70  70  70  70\n",
            "  70  55   0  70  70  70  70  70  70  68  70  70  70  70  70  68  70  70\n",
            "  70  70  70  70  68  70  70  68  61  70  68  70  70  70  80  70  70  70\n",
            "  70  80  70  70  70  50  64  70  70 110  70  62  70  70  70  70  70   0\n",
            "  70  70  70  60  70 110  70   0  70  70  70  70  70  70  70  70  70  64\n",
            "  70  70  70  70  70  70  70   0  70  70  70  70 110  70  70 108  70   0\n",
            "  70  70 104  70  70  70  70  70  70  70  70  70  70  70  70  80  70  70\n",
            "  70  78  70  55  56  50  70  70  70  70  70  70  80  70  70  70  62  70\n",
            "  74  70  70  70  56  70  70  82  70  70  70  70  70  70  70  70  70  86\n",
            "  82  70  60  70  70  70  80  68  90  70  70  70  70  70  70]\n",
            "the accuracy for poly kernal is :\n",
            "0.03463203463203463\n"
          ]
        }
      ]
    }
  ]
}