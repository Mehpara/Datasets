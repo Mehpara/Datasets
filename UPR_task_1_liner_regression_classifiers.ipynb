{
  "nbformat": 4,
  "nbformat_minor": 0,
  "metadata": {
    "colab": {
      "name": "UPR task 1  liner regression classifiers.ipynb",
      "provenance": [],
      "collapsed_sections": [],
      "authorship_tag": "ABX9TyNHYAVyZSHZBVrKp+yt9ibu",
      "include_colab_link": true
    },
    "kernelspec": {
      "name": "python3",
      "display_name": "Python 3"
    },
    "language_info": {
      "name": "python"
    }
  },
  "cells": [
    {
      "cell_type": "markdown",
      "metadata": {
        "id": "view-in-github",
        "colab_type": "text"
      },
      "source": [
        "<a href=\"https://colab.research.google.com/github/Mehpara/Datasets/blob/main/UPR_task_1_liner_regression_classifiers.ipynb\" target=\"_parent\"><img src=\"https://colab.research.google.com/assets/colab-badge.svg\" alt=\"Open In Colab\"/></a>"
      ]
    },
    {
      "cell_type": "code",
      "execution_count": 2,
      "metadata": {
        "id": "2z9h8OjL0fKY"
      },
      "outputs": [],
      "source": [
        "import numpy as np\n",
        "import pandas as pd\n",
        "import matplotlib.pyplot as plt\n",
        "from sklearn import linear_model\n",
        "from sklearn.feature_extraction.text import TfidfVectorizer\n",
        "from sklearn.linear_model import LinearRegression\n",
        "from sklearn.metrics import precision_score, f1_score, recall_score, accuracy_score, hamming_loss\n",
        "from sklearn.model_selection import train_test_split\n",
        "\n",
        "from sklearn.preprocessing import StandardScaler\n",
        "\n",
        "\n",
        "#to create plots we use this library We used seaborn to visualise the distribution of the data: sns.pairplot(Data, diag_kind= “kde”, hue= “Outcome”)\n",
        "import seaborn as sns \n",
        "from sklearn import metrics\n",
        "\n"
      ]
    },
    {
      "cell_type": "code",
      "source": [
        "df = pd.read_csv('https://raw.githubusercontent.com/Mehpara/Datasets/main/diabetes2.csv')"
      ],
      "metadata": {
        "id": "ejWkHRCh1s0J"
      },
      "execution_count": 3,
      "outputs": []
    },
    {
      "cell_type": "code",
      "source": [
        "df2=df[['Age',\"SkinThickness\",\"Glucose\",\"BloodPressure\"]]"
      ],
      "metadata": {
        "id": "YKFEOyJZAXdY"
      },
      "execution_count": 4,
      "outputs": []
    },
    {
      "cell_type": "code",
      "source": [
        "LinearRegression(copy_X=True,fit_intercept=True, n_jobs=None, normalize=False)"
      ],
      "metadata": {
        "colab": {
          "base_uri": "https://localhost:8080/"
        },
        "id": "VG6HepZ04z-6",
        "outputId": "d19076fb-2c33-412c-b388-bb67661186be"
      },
      "execution_count": 5,
      "outputs": [
        {
          "output_type": "execute_result",
          "data": {
            "text/plain": [
              "LinearRegression(normalize=False)"
            ]
          },
          "metadata": {},
          "execution_count": 5
        }
      ]
    },
    {
      "cell_type": "code",
      "source": [
        "df2=df[['Age',\"SkinThickness\",\"Glucose\",\"BloodPressure\",\"BMI\"\t]]\n",
        "\n",
        "x_train,x_test,y_train,y_test=train_test_split(df[[\"SkinThickness\",\"DiabetesPedigreeFunction\",'Glucose',\"BMI\"]],df[\"BloodPressure\"],test_size=0.3,random_state=0)\n",
        "#Standered scALER\n",
        "\n",
        "sc_x=StandardScaler()\n",
        "x_train=sc_x.fit_transform(x_train)\n",
        "x_test=sc_x.fit_transform(x_test)\n",
        "lr=LinearRegression()\n",
        "\n",
        "lr.fit(x_train,y_train)\n",
        "y_pred=lr.predict(x_test)\n",
        "y_pred\n",
        "model_accuracy=lr.score(x_test,y_test)\n",
        "\n"
      ],
      "metadata": {
        "id": "gqtJBIWCP6t8"
      },
      "execution_count": 11,
      "outputs": []
    },
    {
      "cell_type": "code",
      "source": [
        "print(\"the accuracy for linearregression  is :\")\n",
        "model_accuracy"
      ],
      "metadata": {
        "id": "A8GhD83pQM_z",
        "colab": {
          "base_uri": "https://localhost:8080/"
        },
        "outputId": "a0939909-2e39-428c-84d8-248f978ec61c"
      },
      "execution_count": 12,
      "outputs": [
        {
          "output_type": "stream",
          "name": "stdout",
          "text": [
            "the accuracy for linearregression  is :\n"
          ]
        },
        {
          "output_type": "execute_result",
          "data": {
            "text/plain": [
              "0.090904096732916"
            ]
          },
          "metadata": {},
          "execution_count": 12
        }
      ]
    }
  ]
}