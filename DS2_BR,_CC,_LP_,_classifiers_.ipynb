{
  "nbformat": 4,
  "nbformat_minor": 0,
  "metadata": {
    "colab": {
      "provenance": [],
      "collapsed_sections": [],
      "authorship_tag": "ABX9TyNFchDZUzS0KICDg5t8DdJl",
      "include_colab_link": true
    },
    "kernelspec": {
      "name": "python3",
      "display_name": "Python 3"
    },
    "language_info": {
      "name": "python"
    }
  },
  "cells": [
    {
      "cell_type": "markdown",
      "metadata": {
        "id": "view-in-github",
        "colab_type": "text"
      },
      "source": [
        "<a href=\"https://colab.research.google.com/github/Mehpara/Datasets/blob/main/DS2_BR%2C_CC%2C_LP_%2C_classifiers_.ipynb\" target=\"_parent\"><img src=\"https://colab.research.google.com/assets/colab-badge.svg\" alt=\"Open In Colab\"/></a>"
      ]
    },
    {
      "cell_type": "code",
      "source": [
        "!pip install scikit-multilearn\n",
        "!pip install simplekml\n",
        "\n"
      ],
      "metadata": {
        "colab": {
          "base_uri": "https://localhost:8080/"
        },
        "id": "J_-WvR_OFSK-",
        "outputId": "4425dcee-d29d-42ef-f9b7-026f7537bf9f"
      },
      "execution_count": 1,
      "outputs": [
        {
          "output_type": "stream",
          "name": "stdout",
          "text": [
            "Looking in indexes: https://pypi.org/simple, https://us-python.pkg.dev/colab-wheels/public/simple/\n",
            "Collecting scikit-multilearn\n",
            "  Downloading scikit_multilearn-0.2.0-py3-none-any.whl (89 kB)\n",
            "\u001b[?25l\r\u001b[K     |███▊                            | 10 kB 19.1 MB/s eta 0:00:01\r\u001b[K     |███████▍                        | 20 kB 14.9 MB/s eta 0:00:01\r\u001b[K     |███████████                     | 30 kB 20.4 MB/s eta 0:00:01\r\u001b[K     |██████████████▊                 | 40 kB 21.7 MB/s eta 0:00:01\r\u001b[K     |██████████████████▍             | 51 kB 25.3 MB/s eta 0:00:01\r\u001b[K     |██████████████████████          | 61 kB 29.0 MB/s eta 0:00:01\r\u001b[K     |█████████████████████████▊      | 71 kB 23.7 MB/s eta 0:00:01\r\u001b[K     |█████████████████████████████▍  | 81 kB 25.9 MB/s eta 0:00:01\r\u001b[K     |████████████████████████████████| 89 kB 7.9 MB/s \n",
            "\u001b[?25hInstalling collected packages: scikit-multilearn\n",
            "Successfully installed scikit-multilearn-0.2.0\n",
            "Looking in indexes: https://pypi.org/simple, https://us-python.pkg.dev/colab-wheels/public/simple/\n",
            "Collecting simplekml\n",
            "  Downloading simplekml-1.3.6.tar.gz (52 kB)\n",
            "\u001b[K     |████████████████████████████████| 52 kB 2.0 MB/s \n",
            "\u001b[?25hBuilding wheels for collected packages: simplekml\n",
            "  Building wheel for simplekml (setup.py) ... \u001b[?25l\u001b[?25hdone\n",
            "  Created wheel for simplekml: filename=simplekml-1.3.6-py3-none-any.whl size=65876 sha256=a95628084ce653ba4cc95c96a0131c7095cdfde8671cad437a62887083d51089\n",
            "  Stored in directory: /root/.cache/pip/wheels/5c/ec/e6/10af1a1fb29ffca95151d4c886d6e06fc309c68f46519892de\n",
            "Successfully built simplekml\n",
            "Installing collected packages: simplekml\n",
            "Successfully installed simplekml-1.3.6\n"
          ]
        }
      ]
    },
    {
      "cell_type": "code",
      "execution_count": 2,
      "metadata": {
        "id": "qZ79xM1PDir1",
        "colab": {
          "base_uri": "https://localhost:8080/"
        },
        "outputId": "a75047f8-5eab-419f-9bbe-ad2861a123da"
      },
      "outputs": [
        {
          "output_type": "stream",
          "name": "stderr",
          "text": [
            "/usr/local/lib/python3.7/dist-packages/ipykernel_launcher.py:8: FutureWarning: pandas.util.testing is deprecated. Use the functions in the public API at pandas.testing instead.\n",
            "  \n"
          ]
        }
      ],
      "source": [
        "# Load EDA Pkgs\n",
        "import pandas as pd\n",
        "import numpy as np\n",
        "# Load Data Viz Pkgs\n",
        "import matplotlib.pyplot as plt\n",
        "import seaborn as sns\n",
        "#/usr/local/lib/python3.7/dist-packages/statsmodels/tools/_testing.py:19: FutureWarning: pandas.util.testing is deprecated. Use the functions in the public API at pandas.testing instead.\n",
        "import pandas.util.testing as tm\n",
        "# ML Pkgs\n",
        "from sklearn.linear_model import LogisticRegression\n",
        "from sklearn.neighbors import KNeighborsClassifier\n",
        "from sklearn.tree import DecisionTreeClassifier\n",
        "from sklearn.naive_bayes import GaussianNB,MultinomialNB\n",
        "from sklearn.metrics import hamming_loss\n",
        "from sklearn.metrics import accuracy_score\n",
        "from sklearn.metrics import f1_score\n",
        "from sklearn.metrics import precision_score\n",
        "from sklearn.metrics import recall_score\n",
        "from sklearn.metrics import classification_report\n",
        "### Split Dataset into Train and Text\n",
        "from sklearn.model_selection import train_test_split\n",
        "\n",
        "# Feature engineering\n",
        "from sklearn.feature_extraction.text import TfidfVectorizer\n",
        "# Multi Label Pkgs\n",
        "\n",
        "from skmultilearn.problem_transform import BinaryRelevance\n",
        "from skmultilearn.problem_transform import ClassifierChain\n",
        "from skmultilearn.problem_transform import LabelPowerset\n",
        "from skmultilearn.adapt import MLkNN\n",
        "\n"
      ]
    },
    {
      "cell_type": "code",
      "source": [
        "# Load Dataset\n",
        "df = pd.read_csv(\"https://raw.githubusercontent.com/Jcharis/Python-Machine-Learning/master/Multi_Label_Text_Classification_with_Skmultilearn/data/so_dataset_2_tags.csv\")\n",
        "df.head()"
      ],
      "metadata": {
        "id": "E2DEEsNTFqhK",
        "colab": {
          "base_uri": "https://localhost:8080/",
          "height": 206
        },
        "outputId": "29c0d3c7-34bc-4445-8504-ca763a31efdf"
      },
      "execution_count": 3,
      "outputs": [
        {
          "output_type": "execute_result",
          "data": {
            "text/plain": [
              "                                               title                 tags  \\\n",
              "0  Flask-SQLAlchemy - When are the tables/databas...  ['python', 'mysql']   \n",
              "1        Combining two PHP variables for MySQL query     ['php', 'mysql']   \n",
              "2  'Counting' the number of records that match a ...     ['php', 'mysql']   \n",
              "3  Insert new row in a table and auto id number. ...     ['php', 'mysql']   \n",
              "4             Create Multiple MySQL tables using PHP     ['php', 'mysql']   \n",
              "\n",
              "   mysql  python  php  \n",
              "0      1     1.0  0.0  \n",
              "1      1     0.0  1.0  \n",
              "2      1     0.0  1.0  \n",
              "3      1     0.0  1.0  \n",
              "4      1     0.0  1.0  "
            ],
            "text/html": [
              "\n",
              "  <div id=\"df-d117c1bb-9a45-4f9a-8587-60478a72320e\">\n",
              "    <div class=\"colab-df-container\">\n",
              "      <div>\n",
              "<style scoped>\n",
              "    .dataframe tbody tr th:only-of-type {\n",
              "        vertical-align: middle;\n",
              "    }\n",
              "\n",
              "    .dataframe tbody tr th {\n",
              "        vertical-align: top;\n",
              "    }\n",
              "\n",
              "    .dataframe thead th {\n",
              "        text-align: right;\n",
              "    }\n",
              "</style>\n",
              "<table border=\"1\" class=\"dataframe\">\n",
              "  <thead>\n",
              "    <tr style=\"text-align: right;\">\n",
              "      <th></th>\n",
              "      <th>title</th>\n",
              "      <th>tags</th>\n",
              "      <th>mysql</th>\n",
              "      <th>python</th>\n",
              "      <th>php</th>\n",
              "    </tr>\n",
              "  </thead>\n",
              "  <tbody>\n",
              "    <tr>\n",
              "      <th>0</th>\n",
              "      <td>Flask-SQLAlchemy - When are the tables/databas...</td>\n",
              "      <td>['python', 'mysql']</td>\n",
              "      <td>1</td>\n",
              "      <td>1.0</td>\n",
              "      <td>0.0</td>\n",
              "    </tr>\n",
              "    <tr>\n",
              "      <th>1</th>\n",
              "      <td>Combining two PHP variables for MySQL query</td>\n",
              "      <td>['php', 'mysql']</td>\n",
              "      <td>1</td>\n",
              "      <td>0.0</td>\n",
              "      <td>1.0</td>\n",
              "    </tr>\n",
              "    <tr>\n",
              "      <th>2</th>\n",
              "      <td>'Counting' the number of records that match a ...</td>\n",
              "      <td>['php', 'mysql']</td>\n",
              "      <td>1</td>\n",
              "      <td>0.0</td>\n",
              "      <td>1.0</td>\n",
              "    </tr>\n",
              "    <tr>\n",
              "      <th>3</th>\n",
              "      <td>Insert new row in a table and auto id number. ...</td>\n",
              "      <td>['php', 'mysql']</td>\n",
              "      <td>1</td>\n",
              "      <td>0.0</td>\n",
              "      <td>1.0</td>\n",
              "    </tr>\n",
              "    <tr>\n",
              "      <th>4</th>\n",
              "      <td>Create Multiple MySQL tables using PHP</td>\n",
              "      <td>['php', 'mysql']</td>\n",
              "      <td>1</td>\n",
              "      <td>0.0</td>\n",
              "      <td>1.0</td>\n",
              "    </tr>\n",
              "  </tbody>\n",
              "</table>\n",
              "</div>\n",
              "      <button class=\"colab-df-convert\" onclick=\"convertToInteractive('df-d117c1bb-9a45-4f9a-8587-60478a72320e')\"\n",
              "              title=\"Convert this dataframe to an interactive table.\"\n",
              "              style=\"display:none;\">\n",
              "        \n",
              "  <svg xmlns=\"http://www.w3.org/2000/svg\" height=\"24px\"viewBox=\"0 0 24 24\"\n",
              "       width=\"24px\">\n",
              "    <path d=\"M0 0h24v24H0V0z\" fill=\"none\"/>\n",
              "    <path d=\"M18.56 5.44l.94 2.06.94-2.06 2.06-.94-2.06-.94-.94-2.06-.94 2.06-2.06.94zm-11 1L8.5 8.5l.94-2.06 2.06-.94-2.06-.94L8.5 2.5l-.94 2.06-2.06.94zm10 10l.94 2.06.94-2.06 2.06-.94-2.06-.94-.94-2.06-.94 2.06-2.06.94z\"/><path d=\"M17.41 7.96l-1.37-1.37c-.4-.4-.92-.59-1.43-.59-.52 0-1.04.2-1.43.59L10.3 9.45l-7.72 7.72c-.78.78-.78 2.05 0 2.83L4 21.41c.39.39.9.59 1.41.59.51 0 1.02-.2 1.41-.59l7.78-7.78 2.81-2.81c.8-.78.8-2.07 0-2.86zM5.41 20L4 18.59l7.72-7.72 1.47 1.35L5.41 20z\"/>\n",
              "  </svg>\n",
              "      </button>\n",
              "      \n",
              "  <style>\n",
              "    .colab-df-container {\n",
              "      display:flex;\n",
              "      flex-wrap:wrap;\n",
              "      gap: 12px;\n",
              "    }\n",
              "\n",
              "    .colab-df-convert {\n",
              "      background-color: #E8F0FE;\n",
              "      border: none;\n",
              "      border-radius: 50%;\n",
              "      cursor: pointer;\n",
              "      display: none;\n",
              "      fill: #1967D2;\n",
              "      height: 32px;\n",
              "      padding: 0 0 0 0;\n",
              "      width: 32px;\n",
              "    }\n",
              "\n",
              "    .colab-df-convert:hover {\n",
              "      background-color: #E2EBFA;\n",
              "      box-shadow: 0px 1px 2px rgba(60, 64, 67, 0.3), 0px 1px 3px 1px rgba(60, 64, 67, 0.15);\n",
              "      fill: #174EA6;\n",
              "    }\n",
              "\n",
              "    [theme=dark] .colab-df-convert {\n",
              "      background-color: #3B4455;\n",
              "      fill: #D2E3FC;\n",
              "    }\n",
              "\n",
              "    [theme=dark] .colab-df-convert:hover {\n",
              "      background-color: #434B5C;\n",
              "      box-shadow: 0px 1px 3px 1px rgba(0, 0, 0, 0.15);\n",
              "      filter: drop-shadow(0px 1px 2px rgba(0, 0, 0, 0.3));\n",
              "      fill: #FFFFFF;\n",
              "    }\n",
              "  </style>\n",
              "\n",
              "      <script>\n",
              "        const buttonEl =\n",
              "          document.querySelector('#df-d117c1bb-9a45-4f9a-8587-60478a72320e button.colab-df-convert');\n",
              "        buttonEl.style.display =\n",
              "          google.colab.kernel.accessAllowed ? 'block' : 'none';\n",
              "\n",
              "        async function convertToInteractive(key) {\n",
              "          const element = document.querySelector('#df-d117c1bb-9a45-4f9a-8587-60478a72320e');\n",
              "          const dataTable =\n",
              "            await google.colab.kernel.invokeFunction('convertToInteractive',\n",
              "                                                     [key], {});\n",
              "          if (!dataTable) return;\n",
              "\n",
              "          const docLinkHtml = 'Like what you see? Visit the ' +\n",
              "            '<a target=\"_blank\" href=https://colab.research.google.com/notebooks/data_table.ipynb>data table notebook</a>'\n",
              "            + ' to learn more about interactive tables.';\n",
              "          element.innerHTML = '';\n",
              "          dataTable['output_type'] = 'display_data';\n",
              "          await google.colab.output.renderOutput(dataTable, element);\n",
              "          const docLink = document.createElement('div');\n",
              "          docLink.innerHTML = docLinkHtml;\n",
              "          element.appendChild(docLink);\n",
              "        }\n",
              "      </script>\n",
              "    </div>\n",
              "  </div>\n",
              "  "
            ]
          },
          "metadata": {},
          "execution_count": 3
        }
      ]
    },
    {
      "cell_type": "code",
      "source": [
        "df.loc[0].title"
      ],
      "metadata": {
        "colab": {
          "base_uri": "https://localhost:8080/",
          "height": 36
        },
        "id": "fwfvKRu4FweI",
        "outputId": "33a58ffd-5331-4fc9-b56e-1f4729d12228"
      },
      "execution_count": 4,
      "outputs": [
        {
          "output_type": "execute_result",
          "data": {
            "text/plain": [
              "'Flask-SQLAlchemy - When are the tables/databases created and destroyed?'"
            ],
            "application/vnd.google.colaboratory.intrinsic+json": {
              "type": "string"
            }
          },
          "metadata": {},
          "execution_count": 4
        }
      ]
    },
    {
      "cell_type": "code",
      "source": [
        "# Convert to Float\n",
        "df['mysql'] = df['mysql'].astype(float)\n",
        "df.dtypes"
      ],
      "metadata": {
        "colab": {
          "base_uri": "https://localhost:8080/"
        },
        "id": "_Vl1fgAXGR3N",
        "outputId": "4135f023-46ac-4e18-bfb1-927bc6a881d5"
      },
      "execution_count": 5,
      "outputs": [
        {
          "output_type": "execute_result",
          "data": {
            "text/plain": [
              "title      object\n",
              "tags       object\n",
              "mysql     float64\n",
              "python    float64\n",
              "php       float64\n",
              "dtype: object"
            ]
          },
          "metadata": {},
          "execution_count": 5
        }
      ]
    },
    {
      "cell_type": "code",
      "source": [
        "# Value Count \n",
        "sns.countplot(df['python'])"
      ],
      "metadata": {
        "colab": {
          "base_uri": "https://localhost:8080/",
          "height": 351
        },
        "id": "seNaazc9GPrG",
        "outputId": "5d9d83b9-fea3-4832-a1b1-37d1f5ea31d9"
      },
      "execution_count": 6,
      "outputs": [
        {
          "output_type": "stream",
          "name": "stderr",
          "text": [
            "/usr/local/lib/python3.7/dist-packages/seaborn/_decorators.py:43: FutureWarning: Pass the following variable as a keyword arg: x. From version 0.12, the only valid positional argument will be `data`, and passing other arguments without an explicit keyword will result in an error or misinterpretation.\n",
            "  FutureWarning\n"
          ]
        },
        {
          "output_type": "execute_result",
          "data": {
            "text/plain": [
              "<matplotlib.axes._subplots.AxesSubplot at 0x7fde4141f090>"
            ]
          },
          "metadata": {},
          "execution_count": 6
        },
        {
          "output_type": "display_data",
          "data": {
            "text/plain": [
              "<Figure size 432x288 with 1 Axes>"
            ],
            "image/png": "[encoded data removed]"
          },
          "metadata": {
            "needs_background": "light"
          }
        }
      ]
    },
    {
      "cell_type": "code",
      "source": [
        "# Value Count \n",
        "sns.countplot(df['php'])"
      ],
      "metadata": {
        "id": "nw2oCPXQGW5r",
        "colab": {
          "base_uri": "https://localhost:8080/",
          "height": 351
        },
        "outputId": "5577b8f0-1659-4c2f-bf32-e7f2ab2ca5d2"
      },
      "execution_count": 7,
      "outputs": [
        {
          "output_type": "stream",
          "name": "stderr",
          "text": [
            "/usr/local/lib/python3.7/dist-packages/seaborn/_decorators.py:43: FutureWarning: Pass the following variable as a keyword arg: x. From version 0.12, the only valid positional argument will be `data`, and passing other arguments without an explicit keyword will result in an error or misinterpretation.\n",
            "  FutureWarning\n"
          ]
        },
        {
          "output_type": "execute_result",
          "data": {
            "text/plain": [
              "<matplotlib.axes._subplots.AxesSubplot at 0x7fde4134f410>"
            ]
          },
          "metadata": {},
          "execution_count": 7
        },
        {
          "output_type": "display_data",
          "data": {
            "text/plain": [
              "<Figure size 432x288 with 1 Axes>"
            ],
            "image/png": "[encoded data removed]"
          },
          "metadata": {
            "needs_background": "light"
          }
        }
      ]
    },
    {
      "cell_type": "code",
      "source": [
        "# Value Count \n",
        "sns.countplot(df['mysql'])"
      ],
      "metadata": {
        "id": "BcNvDo2FGW3W",
        "colab": {
          "base_uri": "https://localhost:8080/",
          "height": 351
        },
        "outputId": "1383a90a-5037-4810-a66e-82b976a97c84"
      },
      "execution_count": 8,
      "outputs": [
        {
          "output_type": "stream",
          "name": "stderr",
          "text": [
            "/usr/local/lib/python3.7/dist-packages/seaborn/_decorators.py:43: FutureWarning: Pass the following variable as a keyword arg: x. From version 0.12, the only valid positional argument will be `data`, and passing other arguments without an explicit keyword will result in an error or misinterpretation.\n",
            "  FutureWarning\n"
          ]
        },
        {
          "output_type": "execute_result",
          "data": {
            "text/plain": [
              "<matplotlib.axes._subplots.AxesSubplot at 0x7fde40ecf690>"
            ]
          },
          "metadata": {},
          "execution_count": 8
        },
        {
          "output_type": "display_data",
          "data": {
            "text/plain": [
              "<Figure size 432x288 with 1 Axes>"
            ],
            "image/png": "[encoded data removed]"
          },
          "metadata": {
            "needs_background": "light"
          }
        }
      ]
    },
    {
      "cell_type": "code",
      "source": [
        "df['php'].value_counts()"
      ],
      "metadata": {
        "colab": {
          "base_uri": "https://localhost:8080/"
        },
        "id": "uA8jc-U0GWwF",
        "outputId": "172336d3-5ad5-4d74-d7bd-5f775afa12cc"
      },
      "execution_count": 9,
      "outputs": [
        {
          "output_type": "execute_result",
          "data": {
            "text/plain": [
              "1.0    82\n",
              "0.0    62\n",
              "Name: php, dtype: int64"
            ]
          },
          "metadata": {},
          "execution_count": 9
        }
      ]
    },
    {
      "cell_type": "code",
      "source": [
        "df['php'].value_counts().plot(kind='bar')"
      ],
      "metadata": {
        "id": "Qz7xIBzvGWt1",
        "colab": {
          "base_uri": "https://localhost:8080/",
          "height": 288
        },
        "outputId": "82f2e333-59a8-49ec-c8d1-1ab8445d46c1"
      },
      "execution_count": 10,
      "outputs": [
        {
          "output_type": "execute_result",
          "data": {
            "text/plain": [
              "<matplotlib.axes._subplots.AxesSubplot at 0x7fde40db9fd0>"
            ]
          },
          "metadata": {},
          "execution_count": 10
        },
        {
          "output_type": "display_data",
          "data": {
            "text/plain": [
              "<Figure size 432x288 with 1 Axes>"
            ],
            "image/png": "[encoded data removed]"
          },
          "metadata": {
            "needs_background": "light"
          }
        }
      ]
    },
    {
      "cell_type": "code",
      "source": [
        "#Text Preprocessing    neattext : remove_stopwords  \n",
        "!pip install neattext\n",
        "import neattext as nt\n",
        "import neattext.functions as nfx"
      ],
      "metadata": {
        "colab": {
          "base_uri": "https://localhost:8080/"
        },
        "id": "hJYI_L9-GWrV",
        "outputId": "317d0578-6768-488d-d484-41f4c9106ceb"
      },
      "execution_count": 11,
      "outputs": [
        {
          "output_type": "stream",
          "name": "stdout",
          "text": [
            "Looking in indexes: https://pypi.org/simple, https://us-python.pkg.dev/colab-wheels/public/simple/\n",
            "Collecting neattext\n",
            "  Downloading neattext-0.1.3-py3-none-any.whl (114 kB)\n",
            "\u001b[?25l\r\u001b[K     |██▉                             | 10 kB 26.6 MB/s eta 0:00:01\r\u001b[K     |█████▊                          | 20 kB 15.4 MB/s eta 0:00:01\r\u001b[K     |████████▋                       | 30 kB 21.3 MB/s eta 0:00:01\r\u001b[K     |███████████▍                    | 40 kB 22.6 MB/s eta 0:00:01\r\u001b[K     |██████████████▎                 | 51 kB 26.8 MB/s eta 0:00:01\r\u001b[K     |█████████████████▏              | 61 kB 30.5 MB/s eta 0:00:01\r\u001b[K     |████████████████████            | 71 kB 24.7 MB/s eta 0:00:01\r\u001b[K     |██████████████████████▉         | 81 kB 26.2 MB/s eta 0:00:01\r\u001b[K     |█████████████████████████▊      | 92 kB 28.3 MB/s eta 0:00:01\r\u001b[K     |████████████████████████████▋   | 102 kB 21.5 MB/s eta 0:00:01\r\u001b[K     |███████████████████████████████▍| 112 kB 21.5 MB/s eta 0:00:01\r\u001b[K     |████████████████████████████████| 114 kB 21.5 MB/s \n",
            "\u001b[?25hInstalling collected packages: neattext\n",
            "Successfully installed neattext-0.1.3\n"
          ]
        }
      ]
    },
    {
      "cell_type": "code",
      "source": [
        "# Explore For Noise\n",
        "df['title'].apply(lambda x:nt.TextFrame(x).noise_scan())"
      ],
      "metadata": {
        "id": "JCJOsh_dK288",
        "colab": {
          "base_uri": "https://localhost:8080/"
        },
        "outputId": "0b6a6165-91fd-4ff0-e196-5e3c8e329309"
      },
      "execution_count": 12,
      "outputs": [
        {
          "output_type": "execute_result",
          "data": {
            "text/plain": [
              "0      {'text_noise': 11.267605633802818, 'text_lengt...\n",
              "1      {'text_noise': 4.651162790697675, 'text_length...\n",
              "2      {'text_noise': 9.90990990990991, 'text_length'...\n",
              "3      {'text_noise': 8.47457627118644, 'text_length'...\n",
              "4      {'text_noise': 2.631578947368421, 'text_length...\n",
              "                             ...                        \n",
              "139    {'text_noise': 26.41509433962264, 'text_length...\n",
              "140    {'text_noise': 3.8461538461538463, 'text_lengt...\n",
              "141    {'text_noise': 6.666666666666667, 'text_length...\n",
              "142    {'text_noise': 13.636363636363635, 'text_lengt...\n",
              "143    {'text_noise': 7.142857142857142, 'text_length...\n",
              "Name: title, Length: 144, dtype: object"
            ]
          },
          "metadata": {},
          "execution_count": 12
        }
      ]
    },
    {
      "cell_type": "code",
      "source": [
        "# Explore For Noise\n",
        "df['title'].apply(lambda x:nt.TextExtractor(x).extract_stopwords())"
      ],
      "metadata": {
        "id": "pUfewVCGK22L",
        "colab": {
          "base_uri": "https://localhost:8080/"
        },
        "outputId": "69cfc226-3565-47d1-e829-9f11b80e96f0"
      },
      "execution_count": 13,
      "outputs": [
        {
          "output_type": "execute_result",
          "data": {
            "text/plain": [
              "0                                [when, are, the, and]\n",
              "1                                           [two, for]\n",
              "2                    [the, of, that, a, and, the, and]\n",
              "3                                    [in, a, and, and]\n",
              "4                                              [using]\n",
              "                            ...                       \n",
              "139                                 [where, in, using]\n",
              "140                                               [to]\n",
              "141                                  [and, get, using]\n",
              "142    [how, to, the, of, a, with, a, back, into, the]\n",
              "143                                           [in, if]\n",
              "Name: title, Length: 144, dtype: object"
            ]
          },
          "metadata": {},
          "execution_count": 13
        }
      ]
    },
    {
      "cell_type": "code",
      "source": [
        "dir(nfx)"
      ],
      "metadata": {
        "id": "lWmn-VYxK2zL",
        "colab": {
          "base_uri": "https://localhost:8080/"
        },
        "outputId": "5eb35f55-9182-4c39-8487-ebafa7625e32"
      },
      "execution_count": 14,
      "outputs": [
        {
          "output_type": "execute_result",
          "data": {
            "text/plain": [
              "['BTC_ADDRESS_REGEX',\n",
              " 'CURRENCY_REGEX',\n",
              " 'CURRENCY_SYMB_REGEX',\n",
              " 'Counter',\n",
              " 'DATE_REGEX',\n",
              " 'EMAIL_REGEX',\n",
              " 'EMOJI_REGEX',\n",
              " 'HASTAG_REGEX',\n",
              " 'MASTERCard_REGEX',\n",
              " 'MD5_SHA_REGEX',\n",
              " 'MOST_COMMON_PUNCT_REGEX',\n",
              " 'NUMBERS_REGEX',\n",
              " 'PHONE_REGEX',\n",
              " 'PoBOX_REGEX',\n",
              " 'SPECIAL_CHARACTERS_REGEX',\n",
              " 'STOPWORDS',\n",
              " 'STOPWORDS_de',\n",
              " 'STOPWORDS_en',\n",
              " 'STOPWORDS_es',\n",
              " 'STOPWORDS_fr',\n",
              " 'STOPWORDS_ru',\n",
              " 'STOPWORDS_yo',\n",
              " 'STREET_ADDRESS_REGEX',\n",
              " 'TextFrame',\n",
              " 'URL_PATTERN',\n",
              " 'USER_HANDLES_REGEX',\n",
              " 'VISACard_REGEX',\n",
              " '__builtins__',\n",
              " '__cached__',\n",
              " '__doc__',\n",
              " '__file__',\n",
              " '__generate_text',\n",
              " '__loader__',\n",
              " '__name__',\n",
              " '__numbers_dict',\n",
              " '__package__',\n",
              " '__spec__',\n",
              " '_lex_richness_herdan',\n",
              " '_lex_richness_maas_ttr',\n",
              " 'clean_text',\n",
              " 'defaultdict',\n",
              " 'digit2words',\n",
              " 'extract_btc_address',\n",
              " 'extract_currencies',\n",
              " 'extract_currency_symbols',\n",
              " 'extract_dates',\n",
              " 'extract_emails',\n",
              " 'extract_emojis',\n",
              " 'extract_hashtags',\n",
              " 'extract_html_tags',\n",
              " 'extract_mastercard_addr',\n",
              " 'extract_md5sha',\n",
              " 'extract_numbers',\n",
              " 'extract_pattern',\n",
              " 'extract_phone_numbers',\n",
              " 'extract_postoffice_box',\n",
              " 'extract_shortwords',\n",
              " 'extract_special_characters',\n",
              " 'extract_stopwords',\n",
              " 'extract_street_address',\n",
              " 'extract_terms_in_bracket',\n",
              " 'extract_urls',\n",
              " 'extract_userhandles',\n",
              " 'extract_visacard_addr',\n",
              " 'fix_contractions',\n",
              " 'generate_sentence',\n",
              " 'hamming_distance',\n",
              " 'inverse_df',\n",
              " 'lexical_richness',\n",
              " 'markov_chain',\n",
              " 'math',\n",
              " 'nlargest',\n",
              " 'normalize',\n",
              " 'num2words',\n",
              " 'random',\n",
              " 're',\n",
              " 'read_txt',\n",
              " 'remove_accents',\n",
              " 'remove_bad_quotes',\n",
              " 'remove_btc_address',\n",
              " 'remove_currencies',\n",
              " 'remove_currency_symbols',\n",
              " 'remove_custom_pattern',\n",
              " 'remove_custom_words',\n",
              " 'remove_dates',\n",
              " 'remove_emails',\n",
              " 'remove_emojis',\n",
              " 'remove_hashtags',\n",
              " 'remove_html_tags',\n",
              " 'remove_mastercard_addr',\n",
              " 'remove_md5sha',\n",
              " 'remove_multiple_spaces',\n",
              " 'remove_non_ascii',\n",
              " 'remove_numbers',\n",
              " 'remove_phone_numbers',\n",
              " 'remove_postoffice_box',\n",
              " 'remove_puncts',\n",
              " 'remove_punctuations',\n",
              " 'remove_shortwords',\n",
              " 'remove_special_characters',\n",
              " 'remove_stopwords',\n",
              " 'remove_street_address',\n",
              " 'remove_terms_in_bracket',\n",
              " 'remove_urls',\n",
              " 'remove_userhandles',\n",
              " 'remove_visacard_addr',\n",
              " 'replace_bad_quotes',\n",
              " 'replace_currencies',\n",
              " 'replace_currency_symbols',\n",
              " 'replace_dates',\n",
              " 'replace_emails',\n",
              " 'replace_emojis',\n",
              " 'replace_numbers',\n",
              " 'replace_phone_numbers',\n",
              " 'replace_special_characters',\n",
              " 'replace_term',\n",
              " 'replace_urls',\n",
              " 'string',\n",
              " 'term_freq',\n",
              " 'to_txt',\n",
              " 'unicodedata',\n",
              " 'word_freq',\n",
              " 'word_length_freq']"
            ]
          },
          "metadata": {},
          "execution_count": 14
        }
      ]
    },
    {
      "cell_type": "code",
      "source": [
        "# Explore For Noise\n",
        "df['title'].apply(nfx.remove_stopwords)"
      ],
      "metadata": {
        "id": "o9YKbsWaLFXs",
        "colab": {
          "base_uri": "https://localhost:8080/"
        },
        "outputId": "2553422c-aeb8-4331-af67-7e138f6248dd"
      },
      "execution_count": 15,
      "outputs": [
        {
          "output_type": "execute_result",
          "data": {
            "text/plain": [
              "0      Flask-SQLAlchemy - tables/databases created de...\n",
              "1                    Combining PHP variables MySQL query\n",
              "2      'Counting' number records match certain criter...\n",
              "3         Insert new row table auto id number. Php MySQL\n",
              "4                       Create Multiple MySQL tables PHP\n",
              "                             ...                        \n",
              "139               Executing \"SELECT ... ... ...\" MySQLdb\n",
              "140                              SQLAlchemy reconnect db\n",
              "141                      mysql Count Distinct result php\n",
              "142    store result radio button database value, data...\n",
              "143                 Use SQL count result statement - PHP\n",
              "Name: title, Length: 144, dtype: object"
            ]
          },
          "metadata": {},
          "execution_count": 15
        }
      ]
    },
    {
      "cell_type": "code",
      "source": [
        "corpus = df['title'].apply(nfx.remove_stopwords)"
      ],
      "metadata": {
        "id": "zI4uYQW2LFVL"
      },
      "execution_count": 16,
      "outputs": []
    },
    {
      "cell_type": "code",
      "source": [
        "tfidf = TfidfVectorizer()\n",
        "tfidf"
      ],
      "metadata": {
        "colab": {
          "base_uri": "https://localhost:8080/"
        },
        "id": "EpbaBUA0LFST",
        "outputId": "7d8e3833-2ca7-49af-ceec-38ba1f495949"
      },
      "execution_count": 17,
      "outputs": [
        {
          "output_type": "execute_result",
          "data": {
            "text/plain": [
              "TfidfVectorizer()"
            ]
          },
          "metadata": {},
          "execution_count": 17
        }
      ]
    },
    {
      "cell_type": "code",
      "source": [
        "# Build Features\n",
        "Xfeatures = tfidf.fit_transform(corpus).toarray()\n",
        "Xfeatures"
      ],
      "metadata": {
        "id": "SA6c9YW3LRBd",
        "colab": {
          "base_uri": "https://localhost:8080/"
        },
        "outputId": "e89ca8fb-3451-455b-dcf3-d32998dea191"
      },
      "execution_count": 18,
      "outputs": [
        {
          "output_type": "execute_result",
          "data": {
            "text/plain": [
              "array([[0., 0., 0., ..., 0., 0., 0.],\n",
              "       [0., 0., 0., ..., 0., 0., 0.],\n",
              "       [0., 0., 0., ..., 0., 0., 0.],\n",
              "       ...,\n",
              "       [0., 0., 0., ..., 0., 0., 0.],\n",
              "       [0., 0., 0., ..., 0., 0., 0.],\n",
              "       [0., 0., 0., ..., 0., 0., 0.]])"
            ]
          },
          "metadata": {},
          "execution_count": 18
        }
      ]
    },
    {
      "cell_type": "code",
      "source": [
        "df.head()"
      ],
      "metadata": {
        "colab": {
          "base_uri": "https://localhost:8080/",
          "height": 206
        },
        "id": "jZcXca_qLQ-d",
        "outputId": "4e106bfc-1258-4409-a11e-fe22f22a6c9e"
      },
      "execution_count": 19,
      "outputs": [
        {
          "output_type": "execute_result",
          "data": {
            "text/plain": [
              "                                               title                 tags  \\\n",
              "0  Flask-SQLAlchemy - When are the tables/databas...  ['python', 'mysql']   \n",
              "1        Combining two PHP variables for MySQL query     ['php', 'mysql']   \n",
              "2  'Counting' the number of records that match a ...     ['php', 'mysql']   \n",
              "3  Insert new row in a table and auto id number. ...     ['php', 'mysql']   \n",
              "4             Create Multiple MySQL tables using PHP     ['php', 'mysql']   \n",
              "\n",
              "   mysql  python  php  \n",
              "0    1.0     1.0  0.0  \n",
              "1    1.0     0.0  1.0  \n",
              "2    1.0     0.0  1.0  \n",
              "3    1.0     0.0  1.0  \n",
              "4    1.0     0.0  1.0  "
            ],
            "text/html": [
              "\n",
              "  <div id=\"df-0b035b3a-1b29-4f9e-b544-6cd13b599a52\">\n",
              "    <div class=\"colab-df-container\">\n",
              "      <div>\n",
              "<style scoped>\n",
              "    .dataframe tbody tr th:only-of-type {\n",
              "        vertical-align: middle;\n",
              "    }\n",
              "\n",
              "    .dataframe tbody tr th {\n",
              "        vertical-align: top;\n",
              "    }\n",
              "\n",
              "    .dataframe thead th {\n",
              "        text-align: right;\n",
              "    }\n",
              "</style>\n",
              "<table border=\"1\" class=\"dataframe\">\n",
              "  <thead>\n",
              "    <tr style=\"text-align: right;\">\n",
              "      <th></th>\n",
              "      <th>title</th>\n",
              "      <th>tags</th>\n",
              "      <th>mysql</th>\n",
              "      <th>python</th>\n",
              "      <th>php</th>\n",
              "    </tr>\n",
              "  </thead>\n",
              "  <tbody>\n",
              "    <tr>\n",
              "      <th>0</th>\n",
              "      <td>Flask-SQLAlchemy - When are the tables/databas...</td>\n",
              "      <td>['python', 'mysql']</td>\n",
              "      <td>1.0</td>\n",
              "      <td>1.0</td>\n",
              "      <td>0.0</td>\n",
              "    </tr>\n",
              "    <tr>\n",
              "      <th>1</th>\n",
              "      <td>Combining two PHP variables for MySQL query</td>\n",
              "      <td>['php', 'mysql']</td>\n",
              "      <td>1.0</td>\n",
              "      <td>0.0</td>\n",
              "      <td>1.0</td>\n",
              "    </tr>\n",
              "    <tr>\n",
              "      <th>2</th>\n",
              "      <td>'Counting' the number of records that match a ...</td>\n",
              "      <td>['php', 'mysql']</td>\n",
              "      <td>1.0</td>\n",
              "      <td>0.0</td>\n",
              "      <td>1.0</td>\n",
              "    </tr>\n",
              "    <tr>\n",
              "      <th>3</th>\n",
              "      <td>Insert new row in a table and auto id number. ...</td>\n",
              "      <td>['php', 'mysql']</td>\n",
              "      <td>1.0</td>\n",
              "      <td>0.0</td>\n",
              "      <td>1.0</td>\n",
              "    </tr>\n",
              "    <tr>\n",
              "      <th>4</th>\n",
              "      <td>Create Multiple MySQL tables using PHP</td>\n",
              "      <td>['php', 'mysql']</td>\n",
              "      <td>1.0</td>\n",
              "      <td>0.0</td>\n",
              "      <td>1.0</td>\n",
              "    </tr>\n",
              "  </tbody>\n",
              "</table>\n",
              "</div>\n",
              "      <button class=\"colab-df-convert\" onclick=\"convertToInteractive('df-0b035b3a-1b29-4f9e-b544-6cd13b599a52')\"\n",
              "              title=\"Convert this dataframe to an interactive table.\"\n",
              "              style=\"display:none;\">\n",
              "        \n",
              "  <svg xmlns=\"http://www.w3.org/2000/svg\" height=\"24px\"viewBox=\"0 0 24 24\"\n",
              "       width=\"24px\">\n",
              "    <path d=\"M0 0h24v24H0V0z\" fill=\"none\"/>\n",
              "    <path d=\"M18.56 5.44l.94 2.06.94-2.06 2.06-.94-2.06-.94-.94-2.06-.94 2.06-2.06.94zm-11 1L8.5 8.5l.94-2.06 2.06-.94-2.06-.94L8.5 2.5l-.94 2.06-2.06.94zm10 10l.94 2.06.94-2.06 2.06-.94-2.06-.94-.94-2.06-.94 2.06-2.06.94z\"/><path d=\"M17.41 7.96l-1.37-1.37c-.4-.4-.92-.59-1.43-.59-.52 0-1.04.2-1.43.59L10.3 9.45l-7.72 7.72c-.78.78-.78 2.05 0 2.83L4 21.41c.39.39.9.59 1.41.59.51 0 1.02-.2 1.41-.59l7.78-7.78 2.81-2.81c.8-.78.8-2.07 0-2.86zM5.41 20L4 18.59l7.72-7.72 1.47 1.35L5.41 20z\"/>\n",
              "  </svg>\n",
              "      </button>\n",
              "      \n",
              "  <style>\n",
              "    .colab-df-container {\n",
              "      display:flex;\n",
              "      flex-wrap:wrap;\n",
              "      gap: 12px;\n",
              "    }\n",
              "\n",
              "    .colab-df-convert {\n",
              "      background-color: #E8F0FE;\n",
              "      border: none;\n",
              "      border-radius: 50%;\n",
              "      cursor: pointer;\n",
              "      display: none;\n",
              "      fill: #1967D2;\n",
              "      height: 32px;\n",
              "      padding: 0 0 0 0;\n",
              "      width: 32px;\n",
              "    }\n",
              "\n",
              "    .colab-df-convert:hover {\n",
              "      background-color: #E2EBFA;\n",
              "      box-shadow: 0px 1px 2px rgba(60, 64, 67, 0.3), 0px 1px 3px 1px rgba(60, 64, 67, 0.15);\n",
              "      fill: #174EA6;\n",
              "    }\n",
              "\n",
              "    [theme=dark] .colab-df-convert {\n",
              "      background-color: #3B4455;\n",
              "      fill: #D2E3FC;\n",
              "    }\n",
              "\n",
              "    [theme=dark] .colab-df-convert:hover {\n",
              "      background-color: #434B5C;\n",
              "      box-shadow: 0px 1px 3px 1px rgba(0, 0, 0, 0.15);\n",
              "      filter: drop-shadow(0px 1px 2px rgba(0, 0, 0, 0.3));\n",
              "      fill: #FFFFFF;\n",
              "    }\n",
              "  </style>\n",
              "\n",
              "      <script>\n",
              "        const buttonEl =\n",
              "          document.querySelector('#df-0b035b3a-1b29-4f9e-b544-6cd13b599a52 button.colab-df-convert');\n",
              "        buttonEl.style.display =\n",
              "          google.colab.kernel.accessAllowed ? 'block' : 'none';\n",
              "\n",
              "        async function convertToInteractive(key) {\n",
              "          const element = document.querySelector('#df-0b035b3a-1b29-4f9e-b544-6cd13b599a52');\n",
              "          const dataTable =\n",
              "            await google.colab.kernel.invokeFunction('convertToInteractive',\n",
              "                                                     [key], {});\n",
              "          if (!dataTable) return;\n",
              "\n",
              "          const docLinkHtml = 'Like what you see? Visit the ' +\n",
              "            '<a target=\"_blank\" href=https://colab.research.google.com/notebooks/data_table.ipynb>data table notebook</a>'\n",
              "            + ' to learn more about interactive tables.';\n",
              "          element.innerHTML = '';\n",
              "          dataTable['output_type'] = 'display_data';\n",
              "          await google.colab.output.renderOutput(dataTable, element);\n",
              "          const docLink = document.createElement('div');\n",
              "          docLink.innerHTML = docLinkHtml;\n",
              "          element.appendChild(docLink);\n",
              "        }\n",
              "      </script>\n",
              "    </div>\n",
              "  </div>\n",
              "  "
            ]
          },
          "metadata": {},
          "execution_count": 19
        }
      ]
    },
    {
      "cell_type": "code",
      "source": [
        "y = df[['mysql', 'python', 'php']]"
      ],
      "metadata": {
        "id": "T5H09cWILQ32"
      },
      "execution_count": 20,
      "outputs": []
    },
    {
      "cell_type": "code",
      "source": [
        "# Split Data \n",
        "X_train,X_test,y_train,y_test = train_test_split(Xfeatures,y,test_size=0.3,random_state=42)"
      ],
      "metadata": {
        "id": "i8C2cJElLcdV"
      },
      "execution_count": 21,
      "outputs": []
    },
    {
      "cell_type": "code",
      "source": [
        "print(df['title'].shape)\n",
        "print(X_train.shape)"
      ],
      "metadata": {
        "colab": {
          "base_uri": "https://localhost:8080/"
        },
        "id": "W7LpKvddLh0a",
        "outputId": "9ffd2441-68bd-49da-e1c7-d39f2cba677f"
      },
      "execution_count": 22,
      "outputs": [
        {
          "output_type": "stream",
          "name": "stdout",
          "text": [
            "(144,)\n",
            "(100, 404)\n"
          ]
        }
      ]
    },
    {
      "cell_type": "code",
      "source": [
        "# Building Our Model\n",
        "# Estimator + Multilabel Estimator\n",
        "### Problem Transform\n",
        "import skmultilearn"
      ],
      "metadata": {
        "id": "EZCBhd61Lhyg"
      },
      "execution_count": 23,
      "outputs": []
    },
    {
      "cell_type": "code",
      "source": [
        "dir(skmultilearn)"
      ],
      "metadata": {
        "colab": {
          "base_uri": "https://localhost:8080/"
        },
        "id": "WXPLRXasLhvY",
        "outputId": "d369eded-1f08-4345-98ed-bcbf99678c0b"
      },
      "execution_count": 24,
      "outputs": [
        {
          "output_type": "execute_result",
          "data": {
            "text/plain": [
              "['__builtins__',\n",
              " '__cached__',\n",
              " '__doc__',\n",
              " '__file__',\n",
              " '__loader__',\n",
              " '__name__',\n",
              " '__package__',\n",
              " '__path__',\n",
              " '__spec__',\n",
              " 'adapt',\n",
              " 'base',\n",
              " 'problem_transform',\n",
              " 'utils']"
            ]
          },
          "metadata": {},
          "execution_count": 24
        }
      ]
    },
    {
      "cell_type": "code",
      "source": [
        "# Convert Our Multi-Label Prob to Multi-Class\n",
        "\n",
        "binary_rel_clf = BinaryRelevance(MultinomialNB())\n",
        "binary_rel_clf.fit(X_train,y_train)\n"
      ],
      "metadata": {
        "colab": {
          "base_uri": "https://localhost:8080/"
        },
        "id": "cg7DXziPLq3J",
        "outputId": "b6771e09-730d-41de-ee8d-d765817a489b"
      },
      "execution_count": 25,
      "outputs": [
        {
          "output_type": "execute_result",
          "data": {
            "text/plain": [
              "BinaryRelevance(classifier=MultinomialNB(), require_dense=[True, True])"
            ]
          },
          "metadata": {},
          "execution_count": 25
        }
      ]
    },
    {
      "cell_type": "code",
      "source": [
        "BinaryRelevance(classifier=MultinomialNB(alpha=1.0, class_prior=None,fit_prior=True),require_dense=[True, True])"
      ],
      "metadata": {
        "colab": {
          "base_uri": "https://localhost:8080/"
        },
        "id": "CiAeROinLqzg",
        "outputId": "4f923c87-8520-4746-beaa-25302e5e0fbe"
      },
      "execution_count": 26,
      "outputs": [
        {
          "output_type": "execute_result",
          "data": {
            "text/plain": [
              "BinaryRelevance(classifier=MultinomialNB(), require_dense=[True, True])"
            ]
          },
          "metadata": {},
          "execution_count": 26
        }
      ]
    },
    {
      "cell_type": "code",
      "source": [
        "# Predictions\n",
        "br_prediction = binary_rel_clf.predict(X_test)\n",
        "br_prediction"
      ],
      "metadata": {
        "colab": {
          "base_uri": "https://localhost:8080/"
        },
        "id": "v8Ukaq_NLqwQ",
        "outputId": "fd64d890-a8fb-47df-e24d-147a4addfb43"
      },
      "execution_count": 27,
      "outputs": [
        {
          "output_type": "execute_result",
          "data": {
            "text/plain": [
              "<44x3 sparse matrix of type '<class 'numpy.float64'>'\n",
              "\twith 88 stored elements in Compressed Sparse Column format>"
            ]
          },
          "metadata": {},
          "execution_count": 27
        }
      ]
    },
    {
      "cell_type": "code",
      "source": [
        "# Convert to Array  To See Result\n",
        "br_prediction.toarray()"
      ],
      "metadata": {
        "colab": {
          "base_uri": "https://localhost:8080/"
        },
        "id": "tJ8nsZSQL-cP",
        "outputId": "5bbefc04-5414-45ca-9349-2e9cc5682716"
      },
      "execution_count": 28,
      "outputs": [
        {
          "output_type": "execute_result",
          "data": {
            "text/plain": [
              "array([[1., 0., 1.],\n",
              "       [1., 0., 1.],\n",
              "       [1., 1., 0.],\n",
              "       [1., 0., 1.],\n",
              "       [1., 0., 1.],\n",
              "       [1., 0., 1.],\n",
              "       [1., 0., 1.],\n",
              "       [1., 1., 0.],\n",
              "       [1., 1., 0.],\n",
              "       [1., 0., 1.],\n",
              "       [1., 0., 1.],\n",
              "       [1., 0., 1.],\n",
              "       [1., 0., 1.],\n",
              "       [1., 1., 0.],\n",
              "       [1., 0., 1.],\n",
              "       [1., 0., 1.],\n",
              "       [1., 0., 1.],\n",
              "       [1., 0., 1.],\n",
              "       [1., 0., 1.],\n",
              "       [1., 1., 0.],\n",
              "       [1., 1., 0.],\n",
              "       [1., 1., 0.],\n",
              "       [1., 0., 1.],\n",
              "       [1., 0., 1.],\n",
              "       [1., 0., 1.],\n",
              "       [1., 0., 1.],\n",
              "       [1., 0., 1.],\n",
              "       [1., 0., 1.],\n",
              "       [1., 0., 1.],\n",
              "       [1., 1., 0.],\n",
              "       [1., 1., 0.],\n",
              "       [1., 1., 0.],\n",
              "       [1., 0., 1.],\n",
              "       [1., 1., 0.],\n",
              "       [1., 1., 0.],\n",
              "       [1., 1., 0.],\n",
              "       [1., 0., 1.],\n",
              "       [1., 0., 1.],\n",
              "       [1., 1., 0.],\n",
              "       [1., 0., 1.],\n",
              "       [1., 1., 0.],\n",
              "       [1., 0., 1.],\n",
              "       [1., 1., 0.],\n",
              "       [1., 1., 0.]])"
            ]
          },
          "metadata": {},
          "execution_count": 28
        }
      ]
    },
    {
      "cell_type": "code",
      "source": [
        "# Accuracy\n",
        "accuracy_score(y_test,br_prediction)\n",
        "\n",
        "\n"
      ],
      "metadata": {
        "colab": {
          "base_uri": "https://localhost:8080/"
        },
        "id": "YneDhxuNL-Zv",
        "outputId": "d62930ba-4d2a-4815-c114-792cc35b834c"
      },
      "execution_count": 34,
      "outputs": [
        {
          "output_type": "execute_result",
          "data": {
            "text/plain": [
              "0.9090909090909091"
            ]
          },
          "metadata": {},
          "execution_count": 34
        }
      ]
    },
    {
      "cell_type": "code",
      "source": [
        "# Hamming Loss :Incorrect Predictions\n",
        "# The Lower the result the better\n",
        "hamming_loss(y_test,br_prediction)"
      ],
      "metadata": {
        "colab": {
          "base_uri": "https://localhost:8080/"
        },
        "id": "4CE0YSb0L-W-",
        "outputId": "ca491fe7-a605-4b6d-a890-034954fa23fa"
      },
      "execution_count": 30,
      "outputs": [
        {
          "output_type": "execute_result",
          "data": {
            "text/plain": [
              "0.06060606060606061"
            ]
          },
          "metadata": {},
          "execution_count": 30
        }
      ]
    },
    {
      "cell_type": "code",
      "source": [
        "#f1 score:\n",
        "print(\"f1 score:\")\n",
        "print(\"micro\")\n",
        "print(f1_score(y_test,br_prediction, average='micro'))\n",
        "print(\"macro\")\n",
        "print(f1_score(y_test,br_prediction, average='macro'))\n"
      ],
      "metadata": {
        "id": "ZfztKHrmyKcN",
        "colab": {
          "base_uri": "https://localhost:8080/"
        },
        "outputId": "e0cb1b8a-1f9d-4b07-949b-5cf738e4188a"
      },
      "execution_count": 32,
      "outputs": [
        {
          "output_type": "stream",
          "name": "stdout",
          "text": [
            "f1 score:\n",
            "micro\n",
            "0.9545454545454546\n",
            "macro\n",
            "0.9373219373219372\n"
          ]
        }
      ]
    },
    {
      "cell_type": "code",
      "source": [
        "#precision :\n",
        "print(\"precision:\")\n",
        "print(\"micro\")\n",
        "print(precision_score(y_test,br_prediction, average='micro'))\n",
        "print(\"macro\")\n",
        "print(precision_score(y_test,br_prediction, average='macro'))\n",
        "\n"
      ],
      "metadata": {
        "id": "VG_O6hgqyKVd",
        "colab": {
          "base_uri": "https://localhost:8080/"
        },
        "outputId": "ff69bf38-58aa-4b88-ed92-574f8d8996e5"
      },
      "execution_count": 35,
      "outputs": [
        {
          "output_type": "stream",
          "name": "stdout",
          "text": [
            "precision:\n",
            "micro\n",
            "0.9545454545454546\n",
            "macro\n",
            "0.943355119825708\n"
          ]
        }
      ]
    },
    {
      "cell_type": "code",
      "source": [
        "#Recall:\n",
        "print(\"recall:\")\n",
        "print(\"micro\")\n",
        "print(recall_score(y_test,br_prediction, average='micro'))\n",
        "print(\"macro\")\n",
        "print(recall_score(y_test,br_prediction, average='macro'))\n"
      ],
      "metadata": {
        "id": "kUddFnVkyKOd",
        "colab": {
          "base_uri": "https://localhost:8080/"
        },
        "outputId": "e47db8b8-bc32-490a-cb96-ac40413bd146"
      },
      "execution_count": 36,
      "outputs": [
        {
          "output_type": "stream",
          "name": "stdout",
          "text": [
            "recall:\n",
            "micro\n",
            "0.9545454545454546\n",
            "macro\n",
            "0.9340350877192982\n"
          ]
        }
      ]
    },
    {
      "cell_type": "code",
      "source": [
        "#Classifier Chains\n",
        "#Preserve Label Correlation\n",
        "def build_model(model,mlb_estimator,xtrain,ytrain,xtest,ytest):\n",
        "    # Create an Instance\n",
        "    clf = mlb_estimator(model)\n",
        "    clf.fit(xtrain,ytrain)\n",
        "    # Predict\n",
        "    clf_predictions = clf.predict(xtest)\n",
        "    # Check For Accuracy\n",
        "    acc = accuracy_score(ytest,clf_predictions)\n",
        "    ham = hamming_loss(ytest,clf_predictions)\n",
        "    result = {\"accuracy:\":acc,\"hamming_score\":ham}\n",
        "    return result"
      ],
      "metadata": {
        "id": "JE9gGzjbMF_g"
      },
      "execution_count": null,
      "outputs": []
    },
    {
      "cell_type": "code",
      "source": [
        "clf_chain_model = build_model(MultinomialNB(),ClassifierChain,X_train,y_train,X_test,y_test)"
      ],
      "metadata": {
        "id": "_v6vfIG-MF8N"
      },
      "execution_count": null,
      "outputs": []
    },
    {
      "cell_type": "code",
      "source": [
        "clf_chain_model"
      ],
      "metadata": {
        "colab": {
          "base_uri": "https://localhost:8080/"
        },
        "id": "aykX4JvaMF4w",
        "outputId": "c57b43ee-7aaa-4c49-c27b-6cb71c3fc5db"
      },
      "execution_count": null,
      "outputs": [
        {
          "output_type": "execute_result",
          "data": {
            "text/plain": [
              "{'accuracy:': 0.8409090909090909, 'hamming_score': 0.10606060606060606}"
            ]
          },
          "metadata": {},
          "execution_count": 37
        }
      ]
    },
    {
      "cell_type": "code",
      "source": [
        "clf_labelP_model = build_model(MultinomialNB(),LabelPowerset,X_train,y_train,X_test,y_test)"
      ],
      "metadata": {
        "id": "fmR5TXAiMFzG"
      },
      "execution_count": null,
      "outputs": []
    },
    {
      "cell_type": "code",
      "source": [
        "clf_labelP_model"
      ],
      "metadata": {
        "colab": {
          "base_uri": "https://localhost:8080/"
        },
        "id": "wHWIdP3oMFwO",
        "outputId": "9a09d0c7-e46a-4fb6-c197-c02532bc65bd"
      },
      "execution_count": null,
      "outputs": [
        {
          "output_type": "execute_result",
          "data": {
            "text/plain": [
              "{'accuracy:': 0.9090909090909091, 'hamming_score': 0.06060606060606061}"
            ]
          },
          "metadata": {},
          "execution_count": 39
        }
      ]
    },
    {
      "cell_type": "code",
      "source": [
        "### Apply On A Simple Ttitle/Question\n",
        "ex1 = df['title'].iloc[0]"
      ],
      "metadata": {
        "id": "xWWyK2b7QAH9"
      },
      "execution_count": null,
      "outputs": []
    },
    {
      "cell_type": "code",
      "source": [
        "\n",
        "# Vectorized \n",
        "vec_example = tfidf.transform([ex1])\n"
      ],
      "metadata": {
        "id": "0KvhmtKTOJeQ"
      },
      "execution_count": null,
      "outputs": []
    },
    {
      "cell_type": "code",
      "source": [
        "\n",
        "# Make our prediction\n",
        "binary_rel_clf.predict(vec_example).toarray()"
      ],
      "metadata": {
        "colab": {
          "base_uri": "https://localhost:8080/"
        },
        "id": "iI0O_kjHQL_R",
        "outputId": "dee2c564-2167-4262-f673-cbed22ecd0af"
      },
      "execution_count": null,
      "outputs": [
        {
          "output_type": "execute_result",
          "data": {
            "text/plain": [
              "array([[1., 1., 0.]])"
            ]
          },
          "metadata": {},
          "execution_count": 54
        }
      ]
    },
    {
      "cell_type": "code",
      "source": [],
      "metadata": {
        "id": "j8JrZq1DOJb4"
      },
      "execution_count": null,
      "outputs": []
    },
    {
      "cell_type": "code",
      "source": [],
      "metadata": {
        "id": "m6g9iH7VOJZA"
      },
      "execution_count": null,
      "outputs": []
    }
  ]
}